{
 "cells": [
  {
   "cell_type": "markdown",
   "id": "d33649c1",
   "metadata": {},
   "source": [
    "# Import MNIST"
   ]
  },
  {
   "cell_type": "code",
   "execution_count": 1,
   "id": "baf81bdb",
   "metadata": {
    "ExecuteTime": {
     "end_time": "2022-02-22T17:39:57.640856Z",
     "start_time": "2022-02-22T17:39:55.031705Z"
    }
   },
   "outputs": [],
   "source": [
    "from sklearn.datasets import fetch_openml\n",
    "import matplotlib.pyplot as plt\n"
   ]
  },
  {
   "cell_type": "code",
   "execution_count": 2,
   "id": "c3420cdd",
   "metadata": {
    "ExecuteTime": {
     "end_time": "2022-02-22T17:41:11.363087Z",
     "start_time": "2022-02-22T17:39:58.759556Z"
    }
   },
   "outputs": [],
   "source": [
    "mnist = fetch_openml('mnist_784', version=1, cache=True)"
   ]
  },
  {
   "cell_type": "code",
   "execution_count": 3,
   "id": "0182264d",
   "metadata": {
    "ExecuteTime": {
     "end_time": "2022-02-22T17:41:47.745434Z",
     "start_time": "2022-02-22T17:41:47.710722Z"
    }
   },
   "outputs": [
    {
     "data": {
      "text/plain": [
       "dict_keys(['data', 'target', 'frame', 'categories', 'feature_names', 'target_names', 'DESCR', 'details', 'url'])"
      ]
     },
     "execution_count": 3,
     "metadata": {},
     "output_type": "execute_result"
    }
   ],
   "source": [
    "mnist.keys()"
   ]
  },
  {
   "cell_type": "code",
   "execution_count": 4,
   "id": "b9a2b682",
   "metadata": {
    "ExecuteTime": {
     "end_time": "2022-02-22T17:41:48.696021Z",
     "start_time": "2022-02-22T17:41:48.679066Z"
    }
   },
   "outputs": [],
   "source": [
    "X,Y=mnist['data'],mnist['target']\n",
    "X=X.values #convert into array\n",
    "Y=Y.astype('uint8')"
   ]
  },
  {
   "cell_type": "markdown",
   "id": "5f9d4fb9",
   "metadata": {},
   "source": [
    "plot"
   ]
  },
  {
   "cell_type": "code",
   "execution_count": 29,
   "id": "d41519a6",
   "metadata": {
    "ExecuteTime": {
     "end_time": "2022-02-22T17:52:24.468163Z",
     "start_time": "2022-02-22T17:52:24.262673Z"
    }
   },
   "outputs": [
    {
     "data": {
      "text/plain": [
       "<matplotlib.image.AxesImage at 0x1d6016a1cd0>"
      ]
     },
     "execution_count": 29,
     "metadata": {},
     "output_type": "execute_result"
    },
    {
     "data": {
      "image/png": "[encoded data removed]",
      "text/plain": [
       "<Figure size 432x288 with 1 Axes>"
      ]
     },
     "metadata": {
      "needs_background": "light"
     },
     "output_type": "display_data"
    }
   ],
   "source": [
    "plt.imshow(np.reshape(X[0],(28,28)), cmap='binary')"
   ]
  },
  {
   "cell_type": "markdown",
   "id": "92c30349",
   "metadata": {
    "ExecuteTime": {
     "end_time": "2022-02-21T23:41:10.158870Z",
     "start_time": "2022-02-21T23:41:10.139897Z"
    }
   },
   "source": [
    "convert Y into int"
   ]
  },
  {
   "cell_type": "markdown",
   "id": "fc38e6a5",
   "metadata": {},
   "source": [
    "Split train and test:\n",
    "\n",
    "The MNIST dataset is actually already split into a training set (the first 60,000 images) and a test set (the last 10,000 images):"
   ]
  },
  {
   "cell_type": "code",
   "execution_count": 31,
   "id": "e974b820",
   "metadata": {
    "ExecuteTime": {
     "end_time": "2022-02-22T17:59:23.599464Z",
     "start_time": "2022-02-22T17:59:23.577491Z"
    }
   },
   "outputs": [
    {
     "data": {
      "text/plain": [
       "(70000, 784)"
      ]
     },
     "execution_count": 31,
     "metadata": {},
     "output_type": "execute_result"
    }
   ],
   "source": [
    "X.shape"
   ]
  },
  {
   "cell_type": "code",
   "execution_count": 32,
   "id": "f2a23af8",
   "metadata": {
    "ExecuteTime": {
     "end_time": "2022-02-22T17:59:33.753735Z",
     "start_time": "2022-02-22T17:59:33.734275Z"
    }
   },
   "outputs": [],
   "source": [
    "X_train, X_test, Y_train, Y_test= X[:60000,:], X[60000:, :], Y[:60000], Y[60000:]"
   ]
  },
  {
   "cell_type": "markdown",
   "id": "32a47669",
   "metadata": {},
   "source": [
    "The training data is already shuffled. In some cases where classification is associated with time series data, shuffling is not a good idea"
   ]
  },
  {
   "cell_type": "markdown",
   "id": "285ae14a",
   "metadata": {},
   "source": [
    "## Toy example a '5' detector"
   ]
  },
  {
   "cell_type": "markdown",
   "id": "4a3e0434",
   "metadata": {},
   "source": [
    "both are binary vectors that either say yes for 5 or no otherwise"
   ]
  },
  {
   "cell_type": "code",
   "execution_count": 33,
   "id": "5207d14a",
   "metadata": {
    "ExecuteTime": {
     "end_time": "2022-02-22T17:59:37.721390Z",
     "start_time": "2022-02-22T17:59:37.710918Z"
    }
   },
   "outputs": [],
   "source": [
    "y_train_5=(Y_train==5)"
   ]
  },
  {
   "cell_type": "code",
   "execution_count": 34,
   "id": "95f677b7",
   "metadata": {
    "ExecuteTime": {
     "end_time": "2022-02-22T17:59:38.704958Z",
     "start_time": "2022-02-22T17:59:38.686285Z"
    }
   },
   "outputs": [],
   "source": [
    "y_test_5=(Y_test==5)"
   ]
  },
  {
   "cell_type": "markdown",
   "id": "a92f8b2d",
   "metadata": {},
   "source": [
    "### sgd classifier"
   ]
  },
  {
   "cell_type": "code",
   "execution_count": 14,
   "id": "1f82d85f",
   "metadata": {
    "ExecuteTime": {
     "end_time": "2022-02-22T17:43:50.042006Z",
     "start_time": "2022-02-22T17:43:50.023084Z"
    }
   },
   "outputs": [],
   "source": [
    "from sklearn.linear_model import SGDClassifier\n"
   ]
  },
  {
   "cell_type": "code",
   "execution_count": 15,
   "id": "98d20b8c",
   "metadata": {
    "ExecuteTime": {
     "end_time": "2022-02-22T17:44:38.719981Z",
     "start_time": "2022-02-22T17:44:18.752212Z"
    }
   },
   "outputs": [
    {
     "data": {
      "text/plain": [
       "SGDClassifier(random_state=42)"
      ]
     },
     "execution_count": 15,
     "metadata": {},
     "output_type": "execute_result"
    }
   ],
   "source": [
    "sgd_clf=SGDClassifier(random_state=42)\n",
    "sgd_clf.fit(X_train, y_train_5)"
   ]
  },
  {
   "cell_type": "code",
   "execution_count": 35,
   "id": "43767e2c",
   "metadata": {
    "ExecuteTime": {
     "end_time": "2022-02-22T17:59:51.367186Z",
     "start_time": "2022-02-22T17:59:51.358209Z"
    }
   },
   "outputs": [
    {
     "data": {
      "text/plain": [
       "array([ True])"
      ]
     },
     "execution_count": 35,
     "metadata": {},
     "output_type": "execute_result"
    }
   ],
   "source": [
    "#feed it a 5\n",
    "sgd_clf.predict([X[0]])"
   ]
  },
  {
   "cell_type": "markdown",
   "id": "a61fe67b",
   "metadata": {},
   "source": [
    "### cross-validation score custom function"
   ]
  },
  {
   "cell_type": "code",
   "execution_count": 36,
   "id": "7cc6c3be",
   "metadata": {
    "ExecuteTime": {
     "end_time": "2022-02-22T18:00:21.973170Z",
     "start_time": "2022-02-22T17:59:54.894532Z"
    }
   },
   "outputs": [
    {
     "name": "stdout",
     "output_type": "stream",
     "text": [
      "0.95035\n",
      "0.96035\n",
      "0.9604\n"
     ]
    }
   ],
   "source": [
    "from sklearn.model_selection import StratifiedKFold \n",
    "from sklearn.base import clone\n",
    "\n",
    "skfolds = StratifiedKFold(n_splits=3)#stratified sampling\n",
    "\n",
    "for train_index, test_index in skfolds.split(X_train, y_train_5): \n",
    "    #spits out train and test indices for each split\n",
    "    clone_clf = clone(sgd_clf) #at each instance, create a colone of the classifier that only sees that fold\n",
    "    X_train_folds = X_train[train_index] \n",
    "    y_train_folds = y_train_5[train_index] \n",
    "    X_test_fold = X_train[test_index] \n",
    "    y_test_fold = y_train_5[test_index]\n",
    "    \n",
    "    clone_clf.fit(X_train_folds, y_train_folds) \n",
    "    y_pred = clone_clf.predict(X_test_fold) \n",
    "    n_correct = sum(y_pred == y_test_fold)\n",
    "    print(n_correct / len(y_pred)) # prints 0.9502, 0.96565, and 0.96495"
   ]
  },
  {
   "cell_type": "code",
   "execution_count": 37,
   "id": "ff93b6fc",
   "metadata": {
    "ExecuteTime": {
     "end_time": "2022-02-22T18:01:46.989698Z",
     "start_time": "2022-02-22T18:01:46.982571Z"
    }
   },
   "outputs": [],
   "source": [
    "from sklearn.model_selection import cross_val_score"
   ]
  },
  {
   "cell_type": "markdown",
   "id": "cdbe6a86",
   "metadata": {},
   "source": [
    "now using built in function"
   ]
  },
  {
   "cell_type": "code",
   "execution_count": 38,
   "id": "75642ef6",
   "metadata": {
    "ExecuteTime": {
     "end_time": "2022-02-22T18:02:41.498664Z",
     "start_time": "2022-02-22T18:02:12.583232Z"
    }
   },
   "outputs": [
    {
     "data": {
      "text/plain": [
       "array([0.95035, 0.96035, 0.9604 ])"
      ]
     },
     "execution_count": 38,
     "metadata": {},
     "output_type": "execute_result"
    }
   ],
   "source": [
    "cross_val_score(sgd_clf,X_train, y_train_5, cv=3, scoring='accuracy')b\n"
   ]
  },
  {
   "cell_type": "markdown",
   "id": "0a784204",
   "metadata": {},
   "source": [
    "since only looking at 5, the chances of high accuracy are very likely"
   ]
  },
  {
   "cell_type": "code",
   "execution_count": 40,
   "id": "f59bad35",
   "metadata": {
    "ExecuteTime": {
     "end_time": "2022-02-22T18:04:05.874287Z",
     "start_time": "2022-02-22T18:04:05.863278Z"
    }
   },
   "outputs": [
    {
     "data": {
      "text/plain": [
       "0.09035"
      ]
     },
     "execution_count": 40,
     "metadata": {},
     "output_type": "execute_result"
    }
   ],
   "source": [
    "np.sum(y_train_5)/len(y_train_5) \n",
    "#about 10% of the indices are 5's, so the likelyhood of guessing correctly on them is increased"
   ]
  },
  {
   "cell_type": "markdown",
   "id": "f467448b",
   "metadata": {},
   "source": [
    "a dumb NO 5 classifier"
   ]
  },
  {
   "cell_type": "code",
   "execution_count": 45,
   "id": "d204534b",
   "metadata": {
    "ExecuteTime": {
     "end_time": "2022-02-22T18:08:08.774269Z",
     "start_time": "2022-02-22T18:08:08.766156Z"
    }
   },
   "outputs": [],
   "source": [
    "from sklearn.base import BaseEstimator \n",
    "\n",
    "class Never5Classifier(BaseEstimator): \n",
    "    def fit(self, X, y=None): \n",
    "        return self\n",
    "    def predict(self, X):\n",
    "        return np.zeros((len(X), 1), dtype=bool)#return 0 for all"
   ]
  },
  {
   "cell_type": "code",
   "execution_count": 46,
   "id": "3760a545",
   "metadata": {
    "ExecuteTime": {
     "end_time": "2022-02-22T18:08:10.659153Z",
     "start_time": "2022-02-22T18:08:09.998216Z"
    }
   },
   "outputs": [
    {
     "data": {
      "text/plain": [
       "array([0.91125, 0.90855, 0.90915])"
      ]
     },
     "execution_count": 46,
     "metadata": {},
     "output_type": "execute_result"
    }
   ],
   "source": [
    "never5=Never5Classifier()\n",
    "cross_val_score(never5, X_train, y_train_5, cv=3, scoring='accuracy')"
   ]
  },
  {
   "cell_type": "markdown",
   "id": "dc2e928c",
   "metadata": {},
   "source": [
    "- If we change predictor to always predict 5, the accuracy is inverse, around 10%. This is because most of the data is NOT 5\n",
    "- Accuracy is not the best metric, espeically when looking at **skewed** datasets"
   ]
  },
  {
   "cell_type": "markdown",
   "id": "7530e684",
   "metadata": {},
   "source": [
    "## Confusion Matrix"
   ]
  },
  {
   "cell_type": "markdown",
   "id": "49ba1466",
   "metadata": {},
   "source": [
    "- a confusion matrix gives a deeper idea than pure accuracy, it gives *ratios* of **predicted** classes. It normally looks something like:\n",
    "\n",
    "NEG |POS |\n",
    "-----|-----|\n",
    "True Negative|False Positive|\n",
    "False Negative|True Positive|\n",
    "\n",
    "- where the true class is the rows and predicted classes are the columns. \n",
    "- Therefore, the positive diagonal is the true measures, whereas the negative diagonal gives error"
   ]
  },
  {
   "cell_type": "markdown",
   "id": "81b7e134",
   "metadata": {},
   "source": [
    "### cross vall PREDICT"
   ]
  },
  {
   "cell_type": "code",
   "execution_count": 48,
   "id": "6739cc2c",
   "metadata": {
    "ExecuteTime": {
     "end_time": "2022-02-22T18:18:59.726358Z",
     "start_time": "2022-02-22T18:18:32.390547Z"
    }
   },
   "outputs": [],
   "source": [
    "from sklearn.model_selection import cross_val_predict\n",
    "\n",
    "y_train_pred = cross_val_predict(sgd_clf, X_train, y_train_5, cv=3)"
   ]
  },
  {
   "cell_type": "code",
   "execution_count": 49,
   "id": "ea9e874f",
   "metadata": {
    "ExecuteTime": {
     "end_time": "2022-02-22T18:19:27.575939Z",
     "start_time": "2022-02-22T18:19:27.566961Z"
    }
   },
   "outputs": [],
   "source": [
    "from sklearn.metrics import confusion_matrix"
   ]
  },
  {
   "cell_type": "code",
   "execution_count": 50,
   "id": "e339abe5",
   "metadata": {
    "ExecuteTime": {
     "end_time": "2022-02-22T18:19:40.856791Z",
     "start_time": "2022-02-22T18:19:40.790178Z"
    }
   },
   "outputs": [
    {
     "data": {
      "text/plain": [
       "array([[53892,   687],\n",
       "       [ 1891,  3530]], dtype=int64)"
      ]
     },
     "execution_count": 50,
     "metadata": {},
     "output_type": "execute_result"
    }
   ],
   "source": [
    "confusion_matrix(y_train_5, y_train_pred)"
   ]
  },
  {
   "cell_type": "markdown",
   "id": "33b86f48",
   "metadata": {},
   "source": [
    "### Precision and Recall"
   ]
  },
  {
   "cell_type": "markdown",
   "id": "03051ee2",
   "metadata": {},
   "source": [
    "https://developers.google.com/machine-learning/crash-course/classification/precision-and-recall"
   ]
  },
  {
   "cell_type": "markdown",
   "id": "92beb892",
   "metadata": {},
   "source": [
    "Precision:\n",
    "\n",
    "- What proportion of all positive identifications was actually correct?\n",
    "\n",
    "$\\large Precision = \\frac{TP}{TP+FP}$\n"
   ]
  },
  {
   "cell_type": "markdown",
   "id": "1e03dc03",
   "metadata": {},
   "source": [
    "Specificity is the accuracy of the *positive* predictions only\n",
    "\n",
    "- what percentage of the actual negatives were correctly identified\n",
    "\n",
    "$\\large Specificity = \\frac{TN}{TN+FP}$"
   ]
  },
  {
   "cell_type": "markdown",
   "id": "ff1e3625",
   "metadata": {},
   "source": [
    "Recall or Sensitivity or True Positive rate:\n",
    "\n",
    "what percentage of the ACTUAL positives were truly identified\n",
    "    \n",
    "$\\large Recall = \\frac{TP}{TP+FN}$"
   ]
  },
  {
   "cell_type": "code",
   "execution_count": 51,
   "id": "44e6fa19",
   "metadata": {
    "ExecuteTime": {
     "end_time": "2022-02-22T18:26:10.714526Z",
     "start_time": "2022-02-22T18:26:10.694579Z"
    }
   },
   "outputs": [],
   "source": [
    "from sklearn.metrics import precision_score, recall_score"
   ]
  },
  {
   "cell_type": "code",
   "execution_count": 54,
   "id": "cdaf3a0a",
   "metadata": {
    "ExecuteTime": {
     "end_time": "2022-02-22T18:27:14.494553Z",
     "start_time": "2022-02-22T18:27:14.445685Z"
    }
   },
   "outputs": [
    {
     "data": {
      "text/plain": [
       "0.8370879772350012"
      ]
     },
     "execution_count": 54,
     "metadata": {},
     "output_type": "execute_result"
    }
   ],
   "source": [
    "precision_score(y_train_5, y_train_pred)"
   ]
  },
  {
   "cell_type": "code",
   "execution_count": 55,
   "id": "eac651f3",
   "metadata": {
    "ExecuteTime": {
     "end_time": "2022-02-22T18:27:21.599279Z",
     "start_time": "2022-02-22T18:27:21.565365Z"
    }
   },
   "outputs": [
    {
     "data": {
      "text/plain": [
       "0.6511713705958311"
      ]
     },
     "execution_count": 55,
     "metadata": {},
     "output_type": "execute_result"
    }
   ],
   "source": [
    "recall_score(y_train_5, y_train_pred)"
   ]
  },
  {
   "cell_type": "markdown",
   "id": "930c3f8a",
   "metadata": {},
   "source": [
    "**F1** score combines both measures thorugh a harmonic mean\n",
    "\n",
    "- a harmonic mean is the reciprocal of the arithmetic mean of the reciprocals\n",
    "\n",
    "eg. 1,4,4\n",
    "\n",
    "$(\\frac{1^{-1}+4^{-1}+4^{-1}}{3})^{-1}$\n",
    "\n",
    "\n",
    "$\\large F1=\\frac{2}{\\frac{1}{precision}+\\frac{1}{recall}}$\n",
    "\n",
    "$\\large = \\frac{TP}{TP+\\frac{FN+FP}{2}}$"
   ]
  },
  {
   "cell_type": "code",
   "execution_count": 56,
   "id": "c8574793",
   "metadata": {
    "ExecuteTime": {
     "end_time": "2022-02-22T21:02:27.937172Z",
     "start_time": "2022-02-22T21:02:27.902377Z"
    }
   },
   "outputs": [],
   "source": [
    "from sklearn.metrics import f1_score"
   ]
  },
  {
   "cell_type": "code",
   "execution_count": 57,
   "id": "ef105977",
   "metadata": {
    "ExecuteTime": {
     "end_time": "2022-02-22T21:02:42.088990Z",
     "start_time": "2022-02-22T21:02:42.030652Z"
    }
   },
   "outputs": [
    {
     "data": {
      "text/plain": [
       "0.7325171197343846"
      ]
     },
     "execution_count": 57,
     "metadata": {},
     "output_type": "execute_result"
    }
   ],
   "source": [
    "f1_score(y_train_5, y_train_pred)"
   ]
  },
  {
   "cell_type": "markdown",
   "id": "650acb93",
   "metadata": {},
   "source": [
    "This score prioritizes an *even* relationship between precision and recall, which may not always be ideal. For example, if the classification is videos with nudity, then you care about low false postivies (0=unsafe, 1=safe), a FP would say a video is safe when its not. Therefore, care about high precision. It's okay to reject some good videos and have a high # of FN (low recall).\n",
    "\n",
    "In the other case, if a shopliftic classifier (0=suspect 1=innocent), then it's better to overestimate the suspects, that is have a high # of FP is ok. The real problem is FN, which means letting theives get through. In this case, we care more about having a high recall"
   ]
  },
  {
   "cell_type": "markdown",
   "id": "bbf755ca",
   "metadata": {},
   "source": [
    "**Precision and Recall Trade-Off**"
   ]
  },
  {
   "attachments": {
    "PrecisionVsRecallLowerThreshold.svg": {
     "image/svg+xml": [
      "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"
     ]
    }
   },
   "cell_type": "markdown",
   "id": "0915e369",
   "metadata": {},
   "source": [
    "![PrecisionVsRecallLowerThreshold.svg](attachment:PrecisionVsRecallLowerThreshold.svg)"
   ]
  },
  {
   "cell_type": "markdown",
   "id": "7ece1211",
   "metadata": {},
   "source": [
    "- Everything past the threshold is considered a positive classification\n",
    "- The classification threshold dictates this trade-off. If we increase the threshold, we get a lot more precision because the false positives go down, however, now there are a lot more false negatives, thus lower recall. "
   ]
  },
  {
   "cell_type": "markdown",
   "id": "493f92e8",
   "metadata": {},
   "source": [
    "While we can't adjust the threshold in sklearn directly, we can get an idea of it through decision 'scores' "
   ]
  },
  {
   "cell_type": "code",
   "execution_count": 60,
   "id": "d4bbd085",
   "metadata": {
    "ExecuteTime": {
     "end_time": "2022-02-22T22:41:41.961761Z",
     "start_time": "2022-02-22T22:41:41.946218Z"
    }
   },
   "outputs": [
    {
     "data": {
      "text/plain": [
       "array([2164.22030239])"
      ]
     },
     "execution_count": 60,
     "metadata": {},
     "output_type": "execute_result"
    }
   ],
   "source": [
    "y_scores=sgd_clf.decision_function([X[0]])\n",
    "y_scores"
   ]
  },
  {
   "cell_type": "markdown",
   "id": "f790e074",
   "metadata": {},
   "source": [
    "- we can set our own thresholds based on these scores to return true or false\n",
    "- alternatively, plotting the curves allows us to pick a range systematically"
   ]
  },
  {
   "cell_type": "code",
   "execution_count": 63,
   "id": "c5802120",
   "metadata": {
    "ExecuteTime": {
     "end_time": "2022-02-22T22:49:29.510944Z",
     "start_time": "2022-02-22T22:44:45.976368Z"
    }
   },
   "outputs": [],
   "source": [
    "#1. get decision scores through cross validation\n",
    "\n",
    "y_scores=cross_val_predict(sgd_clf, X_train, y_train_5, cv=3, method='decision_function')"
   ]
  },
  {
   "cell_type": "code",
   "execution_count": 64,
   "id": "23ebdca2",
   "metadata": {
    "ExecuteTime": {
     "end_time": "2022-02-22T22:49:31.417630Z",
     "start_time": "2022-02-22T22:49:31.393377Z"
    }
   },
   "outputs": [],
   "source": [
    "#2. now use precision recall curve to plot \n",
    "\n",
    "from sklearn.metrics import precision_recall_curve"
   ]
  },
  {
   "cell_type": "code",
   "execution_count": 67,
   "id": "96bea17d",
   "metadata": {
    "ExecuteTime": {
     "end_time": "2022-02-22T22:57:31.846161Z",
     "start_time": "2022-02-22T22:57:31.785737Z"
    }
   },
   "outputs": [],
   "source": [
    "precisions, recalls, thresholds = precision_recall_curve(y_train_5, y_scores)"
   ]
  },
  {
   "cell_type": "code",
   "execution_count": 73,
   "id": "e7b5f3ca",
   "metadata": {
    "ExecuteTime": {
     "end_time": "2022-02-22T23:00:41.339490Z",
     "start_time": "2022-02-22T23:00:41.321519Z"
    }
   },
   "outputs": [],
   "source": [
    "def plot_precision_recall_vs_threshold(precisions, recalls, thresholds):\n",
    "    plt.plot(thresholds, precisions[:-1], 'b--', label='Precision')\n",
    "    plt.plot(thresholds, recalls[:-1], 'g--', label='Recall')\n",
    "    plt.xlim([-40000, 40000])\n",
    "    plt.xlabel('Threshold')"
   ]
  },
  {
   "cell_type": "code",
   "execution_count": 74,
   "id": "48c60cad",
   "metadata": {
    "ExecuteTime": {
     "end_time": "2022-02-22T23:00:42.575992Z",
     "start_time": "2022-02-22T23:00:42.361550Z"
    }
   },
   "outputs": [
    {
     "data": {
      "image/png": "[encoded data removed]",
      "text/plain": [
       "<Figure size 432x288 with 1 Axes>"
      ]
     },
     "metadata": {
      "needs_background": "light"
     },
     "output_type": "display_data"
    }
   ],
   "source": [
    "plot_precision_recall_vs_threshold(precisions, recalls, thresholds)"
   ]
  },
  {
   "cell_type": "code",
   "execution_count": 76,
   "id": "6fedf466",
   "metadata": {
    "ExecuteTime": {
     "end_time": "2022-02-22T23:07:02.854014Z",
     "start_time": "2022-02-22T23:07:02.076149Z"
    }
   },
   "outputs": [
    {
     "data": {
      "text/plain": [
       "Text(0, 0.5, 'precision')"
      ]
     },
     "execution_count": 76,
     "metadata": {},
     "output_type": "execute_result"
    },
    {
     "data": {
      "image/png": "[encoded data removed]",
      "text/plain": [
       "<Figure size 432x288 with 1 Axes>"
      ]
     },
     "metadata": {
      "needs_background": "light"
     },
     "output_type": "display_data"
    }
   ],
   "source": [
    "#another option is to plot the recall vs the precision directly\n",
    "\n",
    "plt.plot(recalls, precisions)\n",
    "plt.xlabel('recall')\n",
    "plt.ylabel('precision')"
   ]
  },
  {
   "cell_type": "markdown",
   "id": "89e62c31",
   "metadata": {},
   "source": [
    "There is a sharp drop-off at 0.8 recall, so want to be before that"
   ]
  },
  {
   "cell_type": "code",
   "execution_count": 77,
   "id": "47ca0839",
   "metadata": {
    "ExecuteTime": {
     "end_time": "2022-02-22T23:09:51.101566Z",
     "start_time": "2022-02-22T23:09:51.089630Z"
    }
   },
   "outputs": [],
   "source": [
    "#to get the score at a particular decision level\n",
    "\n",
    "threshold_90_precision= thresholds[np.argmax(precisions>=0.9)]#gives the index of the first to beat 0.9"
   ]
  },
  {
   "cell_type": "code",
   "execution_count": 78,
   "id": "eb4a4a9a",
   "metadata": {
    "ExecuteTime": {
     "end_time": "2022-02-22T23:09:56.952143Z",
     "start_time": "2022-02-22T23:09:56.937043Z"
    }
   },
   "outputs": [
    {
     "data": {
      "text/plain": [
       "3370.0194991439557"
      ]
     },
     "execution_count": 78,
     "metadata": {},
     "output_type": "execute_result"
    }
   ],
   "source": [
    "threshold_90_precision"
   ]
  },
  {
   "cell_type": "code",
   "execution_count": 79,
   "id": "acc3cc05",
   "metadata": {
    "ExecuteTime": {
     "end_time": "2022-02-22T23:10:29.416290Z",
     "start_time": "2022-02-22T23:10:29.401831Z"
    }
   },
   "outputs": [],
   "source": [
    "y_train_pred_90=(y_scores>=threshold_90_precision)"
   ]
  },
  {
   "cell_type": "code",
   "execution_count": 80,
   "id": "8343bb2f",
   "metadata": {
    "ExecuteTime": {
     "end_time": "2022-02-22T23:11:05.517352Z",
     "start_time": "2022-02-22T23:11:05.473536Z"
    }
   },
   "outputs": [
    {
     "data": {
      "text/plain": [
       "0.9000345901072293"
      ]
     },
     "execution_count": 80,
     "metadata": {},
     "output_type": "execute_result"
    }
   ],
   "source": [
    "precision_score(y_train_5, y_train_pred_90)"
   ]
  },
  {
   "cell_type": "code",
   "execution_count": null,
   "id": "87785715",
   "metadata": {},
   "outputs": [],
   "source": []
  }
 ],
 "metadata": {
  "kernelspec": {
   "display_name": "Python 3",
   "language": "python",
   "name": "python3"
  },
  "language_info": {
   "codemirror_mode": {
    "name": "ipython",
    "version": 3
   },
   "file_extension": ".py",
   "mimetype": "text/x-python",
   "name": "python",
   "nbconvert_exporter": "python",
   "pygments_lexer": "ipython3",
   "version": "3.8.8"
  },
  "toc": {
   "base_numbering": 1,
   "nav_menu": {},
   "number_sections": true,
   "sideBar": true,
   "skip_h1_title": false,
   "title_cell": "Table of Contents",
   "title_sidebar": "Contents",
   "toc_cell": false,
   "toc_position": {},
   "toc_section_display": true,
   "toc_window_display": true
  },
  "varInspector": {
   "cols": {
    "lenName": 16,
    "lenType": 16,
    "lenVar": 40
   },
   "kernels_config": {
    "python": {
     "delete_cmd_postfix": "",
     "delete_cmd_prefix": "del ",
     "library": "var_list.py",
     "varRefreshCmd": "print(var_dic_list())"
    },
    "r": {
     "delete_cmd_postfix": ") ",
     "delete_cmd_prefix": "rm(",
     "library": "var_list.r",
     "varRefreshCmd": "cat(var_dic_list()) "
    }
   },
   "types_to_exclude": [
    "module",
    "function",
    "builtin_function_or_method",
    "instance",
    "_Feature"
   ],
   "window_display": false
  }
 },
 "nbformat": 4,
 "nbformat_minor": 5
}
